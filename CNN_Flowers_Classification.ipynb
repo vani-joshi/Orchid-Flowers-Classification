{
 "cells": [
  {
   "cell_type": "code",
   "execution_count": 1,
   "metadata": {},
   "outputs": [],
   "source": [
    "import pandas as pd\n",
    "import sklearn\n",
    "from sklearn.model_selection import train_test_split\n",
    "import numpy as np\n",
    "import os, shutil"
   ]
  },
  {
   "cell_type": "markdown",
   "metadata": {},
   "source": [
    "#### Data Pre-Processing \n",
    "\n",
    "##### Step 1 : Provide labels(names) to the data in the classlabels.txt \n"
   ]
  },
  {
   "cell_type": "code",
   "execution_count": 3,
   "metadata": {
    "tags": []
   },
   "outputs": [],
   "source": [
    "df = pd.read_csv('classlabels.txt', sep=\",\", header=None)\n",
    "df.columns = [\"image\", \"class\"]\n",
    "\n",
    "# Shuffle data :\n",
    "df = sklearn.utils.shuffle(df)\n",
    "\n",
    "# Split the data (Training/Validation : 80/20) :\n",
    "df_train, df_test = np.split(df, [int(.8*len(df))])\n"
   ]
  },
  {
   "cell_type": "code",
   "execution_count": 8,
   "metadata": {},
   "outputs": [],
   "source": [
    "def createFolder(name):\n",
    "    if not os.path.exists(name):\n",
    "        os.makedirs(name)"
   ]
  },
  {
   "cell_type": "markdown",
   "metadata": {},
   "source": [
    "##### Step 2 : Read the data from the source location : 'JF30-1/jpg/' and copy the same into the destination path."
   ]
  },
  {
   "cell_type": "code",
   "execution_count": 9,
   "metadata": {},
   "outputs": [],
   "source": [
    "SOURCE = 'JF30-1/jpg/'\n",
    "def copyFile(fileName, destination):\n",
    "    # ex : 'JFG30-1/jpg/JFT_000001.jpg'\n",
    "    shutil.copy(SOURCE+fileName, destination)"
   ]
  },
  {
   "cell_type": "markdown",
   "metadata": {},
   "source": [
    "##### Step 3 : Creating 2 Folders: \n",
    "1. train\n",
    "2. validation\n",
    "\n",
    "* All the images belonging to the initial 80% dataset will be moved to the \"train\" folder\n",
    "* All the remaining 20% images will be moved to the \"validation\" folder\n"
   ]
  },
  {
   "cell_type": "code",
   "execution_count": 10,
   "metadata": {},
   "outputs": [],
   "source": [
    "def createClassFolders(df, folderName):\n",
    "    # create the main folder\n",
    "    createFolder(folderName)\n",
    "    # Start copying\n",
    "    for idx,row in df.iterrows():\n",
    "        # JFT_00001.jpg, 1\n",
    "        destination = folderName+'/'+str(row['class']) # train/1\n",
    "        createFolder(destination)\n",
    "        copyFile(row['image'], destination)"
   ]
  },
  {
   "cell_type": "code",
   "execution_count": 11,
   "metadata": {},
   "outputs": [],
   "source": [
    "createClassFolders(df_train, 'train')"
   ]
  },
  {
   "cell_type": "code",
   "execution_count": 12,
   "metadata": {},
   "outputs": [],
   "source": [
    "createClassFolders(df_test, 'validation')"
   ]
  },
  {
   "cell_type": "markdown",
   "metadata": {},
   "source": [
    "* The 2 Folders have been created and there are 30 individual folders within each of them (from 1 - 30), for each of the 30 Image Classes."
   ]
  },
  {
   "cell_type": "markdown",
   "metadata": {},
   "source": [
    "#### QUESTION 1 : Model 1 from scratch using CNN layers"
   ]
  },
  {
   "cell_type": "markdown",
   "metadata": {},
   "source": [
    "##### Baseline Model for comparison of Accuracy metrics :\n"
   ]
  },
  {
   "cell_type": "code",
   "execution_count": 107,
   "metadata": {},
   "outputs": [
    {
     "name": "stdout",
     "output_type": "stream",
     "text": [
      "Accuracy of the Baseline Model is: 6     0.047329\n",
      "28    0.045977\n",
      "23    0.045301\n",
      "13    0.044625\n",
      "4     0.044625\n",
      "2     0.043949\n",
      "7     0.043272\n",
      "18    0.042596\n",
      "29    0.042596\n",
      "20    0.041244\n",
      "27    0.041244\n",
      "24    0.040568\n",
      "10    0.040568\n",
      "25    0.037863\n",
      "19    0.037187\n",
      "14    0.036511\n",
      "5     0.036511\n",
      "22    0.033130\n",
      "12    0.032454\n",
      "9     0.031102\n",
      "17    0.030426\n",
      "3     0.027721\n",
      "21    0.025693\n",
      "11    0.024341\n",
      "26    0.023665\n",
      "8     0.018932\n",
      "16    0.016227\n",
      "15    0.008790\n",
      "30    0.008114\n",
      "1     0.007437\n",
      "Name: class, dtype: float64\n"
     ]
    }
   ],
   "source": [
    "baseline_accuracy = df['class'].value_counts()/len(df)\n",
    "print(\"Accuracy of the Baseline Model is:\", baseline_accuracy)\n"
   ]
  },
  {
   "cell_type": "code",
   "execution_count": 13,
   "metadata": {
    "tags": []
   },
   "outputs": [
    {
     "name": "stdout",
     "output_type": "stream",
     "text": [
      "2.3.0\n"
     ]
    }
   ],
   "source": [
    "\n",
    "import tensorflow as tf\n",
    "from tensorflow import keras\n",
    "from IPython import display\n",
    "from tensorflow.python.data import Dataset\n",
    "from sklearn import preprocessing\n",
    "from sklearn.preprocessing import StandardScaler\n",
    "import matplotlib.pyplot as plt\n",
    "from keras.models import Sequential\n",
    "from keras.layers import Dense\n",
    "from keras.layers import Activation\n",
    "from keras.layers import Dropout, GaussianNoise, GaussianDropout\n",
    "from keras.layers import Flatten, BatchNormalization\n",
    "from keras.layers.convolutional import Conv2D, SeparableConv2D\n",
    "from keras.constraints import maxnorm\n",
    "from keras.layers.convolutional import MaxPooling2D\n",
    "from keras.utils import np_utils\n",
    "from keras import backend as K\n",
    "from keras import regularizers, optimizers\n",
    "print(tf.__version__)\n",
    "from keras.preprocessing.image import ImageDataGenerator\n",
    "from keras import models\n",
    "from keras import layers"
   ]
  },
  {
   "cell_type": "code",
   "execution_count": 14,
   "metadata": {},
   "outputs": [],
   "source": [
    "# create a data generator\n",
    "trainDataGen = ImageDataGenerator(rescale=1./255,\n",
    "          rotation_range=5,\n",
    "          zoom_range=0.2,\n",
    "          horizontal_flip=True)\n",
    "valDataGen = ImageDataGenerator(rescale=1./255) "
   ]
  },
  {
   "cell_type": "code",
   "execution_count": 15,
   "metadata": {
    "tags": []
   },
   "outputs": [
    {
     "name": "stdout",
     "output_type": "stream",
     "text": [
      "Found 1183 images belonging to 30 classes.\n",
      "Found 296 images belonging to 30 classes.\n"
     ]
    }
   ],
   "source": [
    "# load and iterate training dataset\n",
    "SIZE=150\n",
    "train = trainDataGen.flow_from_directory('train',target_size=(SIZE, SIZE), class_mode='categorical', batch_size=30)\n",
    "\n",
    "# load and iterate validation dataset\n",
    "val = valDataGen.flow_from_directory('validation',target_size=(SIZE, SIZE), class_mode='categorical', batch_size=30)"
   ]
  },
  {
   "cell_type": "code",
   "execution_count": 16,
   "metadata": {},
   "outputs": [],
   "source": [
    "model = Sequential()\n",
    "model.add(keras.layers.InputLayer(input_shape=(SIZE, SIZE, 3)))\n",
    "model.add(keras.layers.BatchNormalization())\n",
    "model.add(keras.layers.Conv2D(32, (3, 3), padding=\"same\", input_shape=(SIZE, SIZE, 3), activation=\"relu\"))\n",
    "model.add(keras.layers.MaxPool2D(pool_size=(2, 2)))\n",
    "\n",
    "model.add(keras.layers.Conv2D(64, (3, 3), padding=\"same\"))\n",
    "model.add(keras.layers.MaxPool2D(pool_size=(2, 2)))\n",
    "\n",
    "model.add(keras.layers.Conv2D(64, (3, 3), padding=\"same\"))\n",
    "model.add(keras.layers.MaxPool2D(pool_size=(2, 2)))\n",
    "model.add(keras.layers.Flatten())\n",
    "model.add(keras.layers.Dense(256, activation=\"relu\"))\n",
    "\n",
    "model.add(keras.layers.Dropout(0.5))\n",
    "model.add(keras.layers.Dense(30, activation=\"softmax\"))"
   ]
  },
  {
   "cell_type": "code",
   "execution_count": 17,
   "metadata": {
    "tags": []
   },
   "outputs": [
    {
     "name": "stdout",
     "output_type": "stream",
     "text": [
      "Model: \"sequential\"\n",
      "_________________________________________________________________\n",
      "Layer (type)                 Output Shape              Param #   \n",
      "=================================================================\n",
      "batch_normalization (BatchNo (None, 150, 150, 3)       12        \n",
      "_________________________________________________________________\n",
      "conv2d (Conv2D)              (None, 150, 150, 32)      896       \n",
      "_________________________________________________________________\n",
      "max_pooling2d (MaxPooling2D) (None, 75, 75, 32)        0         \n",
      "_________________________________________________________________\n",
      "conv2d_1 (Conv2D)            (None, 75, 75, 64)        18496     \n",
      "_________________________________________________________________\n",
      "max_pooling2d_1 (MaxPooling2 (None, 37, 37, 64)        0         \n",
      "_________________________________________________________________\n",
      "conv2d_2 (Conv2D)            (None, 37, 37, 64)        36928     \n",
      "_________________________________________________________________\n",
      "max_pooling2d_2 (MaxPooling2 (None, 18, 18, 64)        0         \n",
      "_________________________________________________________________\n",
      "flatten (Flatten)            (None, 20736)             0         \n",
      "_________________________________________________________________\n",
      "dense (Dense)                (None, 256)               5308672   \n",
      "_________________________________________________________________\n",
      "dropout (Dropout)            (None, 256)               0         \n",
      "_________________________________________________________________\n",
      "dense_1 (Dense)              (None, 30)                7710      \n",
      "=================================================================\n",
      "Total params: 5,372,714\n",
      "Trainable params: 5,372,708\n",
      "Non-trainable params: 6\n",
      "_________________________________________________________________\n"
     ]
    }
   ],
   "source": [
    "model.summary()"
   ]
  },
  {
   "cell_type": "code",
   "execution_count": 18,
   "metadata": {},
   "outputs": [],
   "source": [
    "model.compile(loss='categorical_crossentropy',\n",
    "              optimizer=keras.optimizers.RMSprop(lr=1e-4),\n",
    "              metrics=['acc'])"
   ]
  },
  {
   "cell_type": "markdown",
   "metadata": {},
   "source": [
    "##### Training the CNN Model :"
   ]
  },
  {
   "cell_type": "code",
   "execution_count": 19,
   "metadata": {
    "tags": []
   },
   "outputs": [
    {
     "name": "stdout",
     "output_type": "stream",
     "text": [
      "WARNING:tensorflow:From <ipython-input-19-dd3b29f5df8f>:7: Model.fit_generator (from tensorflow.python.keras.engine.training) is deprecated and will be removed in a future version.\n",
      "Instructions for updating:\n",
      "Please use Model.fit, which supports generators.\n",
      "Epoch 1/10\n",
      "39/39 [==============================] - 89s 2s/step - loss: 2.7420 - acc: 0.2350 - val_loss: 3.0923 - val_acc: 0.1556\n",
      "Epoch 2/10\n",
      "39/39 [==============================] - 89s 2s/step - loss: 1.9826 - acc: 0.4232 - val_loss: 2.6295 - val_acc: 0.2630\n",
      "Epoch 3/10\n",
      "39/39 [==============================] - 88s 2s/step - loss: 1.5045 - acc: 0.5646 - val_loss: 2.1778 - val_acc: 0.4704\n",
      "Epoch 4/10\n",
      "39/39 [==============================] - 91s 2s/step - loss: 1.2881 - acc: 0.6062 - val_loss: 1.7475 - val_acc: 0.6370\n",
      "Epoch 5/10\n",
      "39/39 [==============================] - 92s 2s/step - loss: 1.1073 - acc: 0.6609 - val_loss: 1.4967 - val_acc: 0.6370\n",
      "Epoch 6/10\n",
      "39/39 [==============================] - 91s 2s/step - loss: 0.9645 - acc: 0.6860 - val_loss: 1.2029 - val_acc: 0.6926\n",
      "Epoch 7/10\n",
      "39/39 [==============================] - 89s 2s/step - loss: 0.8518 - acc: 0.7502 - val_loss: 1.0126 - val_acc: 0.7481\n",
      "Epoch 8/10\n",
      "39/39 [==============================] - 89s 2s/step - loss: 0.7691 - acc: 0.7702 - val_loss: 0.8650 - val_acc: 0.7630\n",
      "Epoch 9/10\n",
      "39/39 [==============================] - 90s 2s/step - loss: 0.7584 - acc: 0.7806 - val_loss: 0.7682 - val_acc: 0.7963\n",
      "Epoch 10/10\n",
      "39/39 [==============================] - 93s 2s/step - loss: 0.6495 - acc: 0.8057 - val_loss: 0.7508 - val_acc: 0.7667\n"
     ]
    }
   ],
   "source": [
    "model_metrics = model.fit_generator(\n",
    "      train,\n",
    "      steps_per_epoch=train.samples // train.batch_size ,\n",
    "      epochs=10,\n",
    "      validation_data=val,\n",
    "      validation_steps=val.samples // val.batch_size,\n",
    "      verbose=1)"
   ]
  },
  {
   "cell_type": "markdown",
   "metadata": {},
   "source": [
    "##### Accuracy of this Model :"
   ]
  },
  {
   "cell_type": "code",
   "execution_count": 20,
   "metadata": {
    "tags": []
   },
   "outputs": [
    {
     "name": "stdout",
     "output_type": "stream",
     "text": [
      "Validation Accuracy: 0.7962962985038757\n",
      "Training Accuracy 0.8057242035865784\n"
     ]
    }
   ],
   "source": [
    "print(\"Validation Accuracy:\", max(model_metrics.history['val_acc']))\n",
    "print(\"Training Accuracy\", max(model_metrics.history['acc']))"
   ]
  },
  {
   "cell_type": "markdown",
   "metadata": {},
   "source": [
    "##### Graphs for the above CNN Model :"
   ]
  },
  {
   "cell_type": "code",
   "execution_count": 110,
   "metadata": {},
   "outputs": [
    {
     "data": {
      "image/png": "[encoded data removed]",
      "text/plain": [
       "<Figure size 432x288 with 1 Axes>"
      ]
     },
     "metadata": {
      "needs_background": "light"
     },
     "output_type": "display_data"
    },
    {
     "data": {
      "image/png": "[encoded data removed]",
      "text/plain": [
       "<Figure size 432x288 with 1 Axes>"
      ]
     },
     "metadata": {
      "needs_background": "light"
     },
     "output_type": "display_data"
    }
   ],
   "source": [
    "acc = model_metrics.history['acc']\n",
    "val_acc = model_metrics.history['val_acc']\n",
    "loss = model_metrics.history['loss']\n",
    "val_loss = model_metrics.history['val_loss']\n",
    " \n",
    "epochs = range(len(acc))\n",
    " \n",
    "plt.plot(epochs, acc, 'b', label='Training acc')\n",
    "plt.plot(epochs, val_acc, 'r', label='Validation acc')\n",
    "plt.title('Training and validation accuracy')\n",
    "plt.xlabel('Epochs')\n",
    "plt.ylabel('Accuracy')\n",
    "plt.legend()\n",
    " \n",
    "plt.figure()\n",
    " \n",
    "plt.plot(epochs, loss, 'b', label='Training loss')\n",
    "plt.plot(epochs, val_loss, 'r', label='Validation loss')\n",
    "plt.title('Training and validation loss')\n",
    "plt.xlabel('Epochs')\n",
    "plt.ylabel('Loss')\n",
    "plt.legend()\n",
    "plt.show()"
   ]
  },
  {
   "cell_type": "markdown",
   "metadata": {},
   "source": [
    "#### QUESTION 2 : Model 2: Use Transfer learning or fine tuning"
   ]
  },
  {
   "cell_type": "code",
   "execution_count": 21,
   "metadata": {},
   "outputs": [
    {
     "name": "stdout",
     "output_type": "stream",
     "text": [
      "Downloading data from https://storage.googleapis.com/tensorflow/keras-applications/vgg16/vgg16_weights_tf_dim_ordering_tf_kernels_notop.h5\n",
      "58892288/58889256 [==============================] - 14s 0us/step\n"
     ]
    }
   ],
   "source": [
    "from keras.applications import VGG16\n",
    " \n",
    "vgg_conv = VGG16(weights='imagenet',include_top=False,input_shape=(SIZE, SIZE, 3))"
   ]
  },
  {
   "cell_type": "code",
   "execution_count": 22,
   "metadata": {
    "tags": []
   },
   "outputs": [
    {
     "name": "stdout",
     "output_type": "stream",
     "text": [
      "<tensorflow.python.keras.engine.input_layer.InputLayer object at 0x000001D9AA50EE88> False\n",
      "<tensorflow.python.keras.layers.convolutional.Conv2D object at 0x000001D9AC1AF848> False\n",
      "<tensorflow.python.keras.layers.convolutional.Conv2D object at 0x000001D9AC17F648> False\n",
      "<tensorflow.python.keras.layers.pooling.MaxPooling2D object at 0x000001D9AC1CCE08> False\n",
      "<tensorflow.python.keras.layers.convolutional.Conv2D object at 0x000001D9ABB6DC88> False\n",
      "<tensorflow.python.keras.layers.convolutional.Conv2D object at 0x000001D9AC1CE788> False\n",
      "<tensorflow.python.keras.layers.pooling.MaxPooling2D object at 0x000001D9AC1D3548> False\n",
      "<tensorflow.python.keras.layers.convolutional.Conv2D object at 0x000001D9AC1D4F48> False\n",
      "<tensorflow.python.keras.layers.convolutional.Conv2D object at 0x000001D9AC1D7908> False\n",
      "<tensorflow.python.keras.layers.convolutional.Conv2D object at 0x000001D9AC1DD388> False\n",
      "<tensorflow.python.keras.layers.pooling.MaxPooling2D object at 0x000001D9AC1DFE88> False\n",
      "<tensorflow.python.keras.layers.convolutional.Conv2D object at 0x000001D9AC1EA848> False\n",
      "<tensorflow.python.keras.layers.convolutional.Conv2D object at 0x000001D9AC1EAF48> False\n",
      "<tensorflow.python.keras.layers.convolutional.Conv2D object at 0x000001D9AC4D1C88> False\n",
      "<tensorflow.python.keras.layers.pooling.MaxPooling2D object at 0x000001D9AC4D97C8> False\n",
      "<tensorflow.python.keras.layers.convolutional.Conv2D object at 0x000001D9AC4E1208> True\n",
      "<tensorflow.python.keras.layers.convolutional.Conv2D object at 0x000001D9AC4E1908> True\n",
      "<tensorflow.python.keras.layers.convolutional.Conv2D object at 0x000001D9AC4E8708> True\n",
      "<tensorflow.python.keras.layers.pooling.MaxPooling2D object at 0x000001D9AC4F0148> True\n"
     ]
    }
   ],
   "source": [
    "# Freezing all the layers except the last 4 layers by using the parameter trainable = False  :\n",
    "for layer in vgg_conv.layers[:-4]:\n",
    "    layer.trainable = False\n",
    "\n",
    "# check the trainable status of the individual layers\n",
    "for layer in vgg_conv.layers:\n",
    "    print(layer, layer.trainable)"
   ]
  },
  {
   "cell_type": "code",
   "execution_count": 23,
   "metadata": {
    "tags": []
   },
   "outputs": [
    {
     "name": "stdout",
     "output_type": "stream",
     "text": [
      "Model: \"sequential_1\"\n",
      "_________________________________________________________________\n",
      "Layer (type)                 Output Shape              Param #   \n",
      "=================================================================\n",
      "vgg16 (Functional)           (None, 4, 4, 512)         14714688  \n",
      "_________________________________________________________________\n",
      "flatten_1 (Flatten)          (None, 8192)              0         \n",
      "_________________________________________________________________\n",
      "dense_2 (Dense)              (None, 1024)              8389632   \n",
      "_________________________________________________________________\n",
      "dropout_1 (Dropout)          (None, 1024)              0         \n",
      "_________________________________________________________________\n",
      "dense_3 (Dense)              (None, 1024)              1049600   \n",
      "_________________________________________________________________\n",
      "dense_4 (Dense)              (None, 1024)              1049600   \n",
      "_________________________________________________________________\n",
      "dense_5 (Dense)              (None, 30)                30750     \n",
      "=================================================================\n",
      "Total params: 25,234,270\n",
      "Trainable params: 17,599,006\n",
      "Non-trainable params: 7,635,264\n",
      "_________________________________________________________________\n"
     ]
    }
   ],
   "source": [
    "# Create the model for Transfer Learning :\n",
    "model_vgg = keras.models.Sequential()\n",
    "\n",
    "# Add the vgg convolutional base model\n",
    "model_vgg.add(vgg_conv)\n",
    " \n",
    "# Add new custom layers\n",
    "model_vgg.add(keras.layers.Flatten()) # Removing all the dimensions\n",
    "model_vgg.add(keras.layers.Dense(1024, activation='relu'))\n",
    "model_vgg.add(keras.layers.Dropout(0.5)) # Prevent model from overfitting by setting random layers to 0\n",
    "model_vgg.add(keras.layers.Dense(1024, activation='relu'))\n",
    "model_vgg.add(keras.layers.Dense(1024, activation='relu'))\n",
    "model_vgg.add(keras.layers.Dense(30, activation= tf.nn.softmax))\n",
    " \n",
    "# Show a summary of the model. Check the number of trainable parameters\n",
    "model_vgg.summary()"
   ]
  },
  {
   "cell_type": "code",
   "execution_count": 24,
   "metadata": {},
   "outputs": [],
   "source": [
    "model_vgg.compile(loss='categorical_crossentropy',\n",
    "              optimizer=keras.optimizers.RMSprop(lr=1e-4),\n",
    "              metrics=['acc'])"
   ]
  },
  {
   "cell_type": "markdown",
   "metadata": {},
   "source": [
    "TRAINING THE MODEL :"
   ]
  },
  {
   "cell_type": "code",
   "execution_count": 25,
   "metadata": {
    "tags": []
   },
   "outputs": [
    {
     "name": "stdout",
     "output_type": "stream",
     "text": [
      "Epoch 1/10\n",
      "39/39 [==============================] - 255s 7s/step - loss: 2.4545 - acc: 0.3140 - val_loss: 1.3181 - val_acc: 0.6296\n",
      "Epoch 2/10\n",
      "39/39 [==============================] - 234s 6s/step - loss: 1.0307 - acc: 0.6791 - val_loss: 0.6523 - val_acc: 0.7519\n",
      "Epoch 3/10\n",
      "39/39 [==============================] - 238s 6s/step - loss: 0.5997 - acc: 0.8066 - val_loss: 0.5781 - val_acc: 0.8519\n",
      "Epoch 4/10\n",
      "39/39 [==============================] - 258s 7s/step - loss: 0.4103 - acc: 0.8638 - val_loss: 0.2973 - val_acc: 0.9111\n",
      "Epoch 5/10\n",
      "39/39 [==============================] - 244s 6s/step - loss: 0.3275 - acc: 0.8985 - val_loss: 0.1501 - val_acc: 0.9370\n",
      "Epoch 6/10\n",
      "39/39 [==============================] - 239s 6s/step - loss: 0.2310 - acc: 0.9297 - val_loss: 0.3238 - val_acc: 0.9000\n",
      "Epoch 7/10\n",
      "39/39 [==============================] - 250s 6s/step - loss: 0.2159 - acc: 0.9332 - val_loss: 0.4046 - val_acc: 0.8889\n",
      "Epoch 8/10\n",
      "39/39 [==============================] - 241s 6s/step - loss: 0.1413 - acc: 0.9644 - val_loss: 0.1649 - val_acc: 0.9519\n",
      "Epoch 9/10\n",
      "39/39 [==============================] - 248s 6s/step - loss: 0.1463 - acc: 0.9532 - val_loss: 0.1743 - val_acc: 0.9481\n",
      "Epoch 10/10\n",
      "39/39 [==============================] - 242s 6s/step - loss: 0.1373 - acc: 0.9549 - val_loss: 0.1907 - val_acc: 0.9481\n"
     ]
    }
   ],
   "source": [
    "new_metrics = model_vgg.fit_generator(\n",
    "      train,\n",
    "      steps_per_epoch=train.samples // train.batch_size ,\n",
    "      epochs=10,\n",
    "      validation_data=val,\n",
    "      validation_steps=val.samples // val.batch_size,\n",
    "      verbose=1)"
   ]
  },
  {
   "cell_type": "markdown",
   "metadata": {},
   "source": [
    "##### Determining the Accuracy of this Model :"
   ]
  },
  {
   "cell_type": "code",
   "execution_count": 27,
   "metadata": {
    "tags": []
   },
   "outputs": [
    {
     "name": "stdout",
     "output_type": "stream",
     "text": [
      "Validation Accuracy: 0.9518518447875977\n",
      "Training Accuracy 0.9644405841827393\n"
     ]
    }
   ],
   "source": [
    "print(\"Validation Accuracy:\", max(new_metrics.history['val_acc']))\n",
    "print(\"Training Accuracy\", max(new_metrics.history['acc']))"
   ]
  },
  {
   "cell_type": "markdown",
   "metadata": {},
   "source": [
    "##### Load a sample image for Prediction :"
   ]
  },
  {
   "cell_type": "code",
   "execution_count": 28,
   "metadata": {},
   "outputs": [],
   "source": [
    "from keras.preprocessing import image\n",
    "def load_image(img_path, show=False):\n",
    "\n",
    "    img = image.load_img(img_path, target_size=(SIZE, SIZE))\n",
    "    img_tensor = image.img_to_array(img)                    # (height, width, channels)\n",
    "    img_tensor = np.expand_dims(img_tensor, axis=0)         # (1, height, width, channels), add a dimension because the model expects this shape: (batch_size, height, width, channels)\n",
    "    img_tensor /= 255.                                      # imshow expects values in the range [0, 1]\n",
    "\n",
    "    if show:\n",
    "        plt.imshow(img_tensor[0])                           \n",
    "        plt.axis('off')\n",
    "        plt.show()\n",
    "\n",
    "    return img_tensor"
   ]
  },
  {
   "cell_type": "code",
   "execution_count": 29,
   "metadata": {},
   "outputs": [
    {
     "data": {
      "image/png": "[encoded data removed]",
      "text/plain": [
       "<Figure size 432x288 with 1 Axes>"
      ]
     },
     "metadata": {
      "needs_background": "light"
     },
     "output_type": "display_data"
    }
   ],
   "source": [
    "img = load_image(SOURCE+'JFT_00001.jpg', True)"
   ]
  },
  {
   "cell_type": "markdown",
   "metadata": {},
   "source": [
    "##### Predict the class of the above image through our Model :"
   ]
  },
  {
   "cell_type": "code",
   "execution_count": 50,
   "metadata": {},
   "outputs": [
    {
     "name": "stdout",
     "output_type": "stream",
     "text": [
      "[[9.9406946e-01 1.1003522e-06 3.4257536e-07 1.0979796e-05 1.0276963e-04\n",
      "  2.2450900e-03 6.6834355e-06 1.6263151e-05 7.3690927e-07 3.4295459e-04\n",
      "  3.5069195e-05 3.3653680e-07 3.0357183e-03 1.4679766e-06 7.2947623e-06\n",
      "  9.2769524e-06 1.2777420e-05 8.7619237e-06 1.5807097e-06 5.9843574e-06\n",
      "  1.2857595e-05 3.6126708e-06 4.4676522e-08 2.8213441e-07 1.5234874e-06\n",
      "  2.8735764e-07 1.2805415e-07 1.8328705e-06 3.3633708e-06 6.1873514e-05]]\n",
      "[0]\n"
     ]
    }
   ],
   "source": [
    "pred_val = model_vgg.predict(img) \n",
    "pred = np.argmax(pred_val, axis=-1)\n",
    "print(pred_val)\n",
    "print(pred)"
   ]
  },
  {
   "cell_type": "code",
   "execution_count": 57,
   "metadata": {
    "tags": []
   },
   "outputs": [
    {
     "name": "stdout",
     "output_type": "stream",
     "text": [
      "The Image belongs to Class 1\n"
     ]
    }
   ],
   "source": [
    "# The above prediction will return the index of the maximum value of this array (which begins with 0 always).\n",
    "# Hence predicting the class as follows :\n",
    "\n",
    "pred = np.argmax(model_vgg.predict(img))\n",
    "print(\"The Image belongs to Class\", pred+1)\n",
    "    "
   ]
  },
  {
   "cell_type": "markdown",
   "metadata": {},
   "source": [
    "#### Verifying the prediction with the actual class :"
   ]
  },
  {
   "cell_type": "code",
   "execution_count": 77,
   "metadata": {},
   "outputs": [
    {
     "data": {
      "text/plain": [
       "0    1\n",
       "Name: class, dtype: int64"
      ]
     },
     "execution_count": 77,
     "metadata": {},
     "output_type": "execute_result"
    }
   ],
   "source": [
    "actual_class = df.loc[df['image'] == 'JFT_00001.jpg']['class']\n",
    "actual_class"
   ]
  },
  {
   "cell_type": "markdown",
   "metadata": {},
   "source": [
    "##### FEW SAMPLE PREDICTIONS ON THE VALIDATION DATA :"
   ]
  },
  {
   "cell_type": "code",
   "execution_count": 81,
   "metadata": {},
   "outputs": [
    {
     "name": "stdout",
     "output_type": "stream",
     "text": [
      "[25 13 24 15 20]\n"
     ]
    }
   ],
   "source": [
    "# Training Data sample predictions :\n",
    "pred_val = model_vgg.predict_classes(val, batch_size=10) \n",
    "print(pred_val[:5])"
   ]
  },
  {
   "cell_type": "markdown",
   "metadata": {},
   "source": [
    "##### OVERALL PREDICTIONS SUMMARY"
   ]
  },
  {
   "cell_type": "code",
   "execution_count": 82,
   "metadata": {},
   "outputs": [],
   "source": [
    "test_steps_per_epoch = val.samples // val.batch_size\n",
    "predictions = model.predict_generator(val, steps=test_steps_per_epoch)\n",
    "\n",
    "# Get most likely class\n",
    "predicted_classes = np.argmax(predictions, axis=1)"
   ]
  },
  {
   "cell_type": "code",
   "execution_count": 108,
   "metadata": {},
   "outputs": [
    {
     "data": {
      "text/plain": [
       "array([22, 29,  9, 27, 19], dtype=int64)"
      ]
     },
     "execution_count": 108,
     "metadata": {},
     "output_type": "execute_result"
    }
   ],
   "source": [
    "predicted_classes[:5]"
   ]
  },
  {
   "cell_type": "code",
   "execution_count": 84,
   "metadata": {},
   "outputs": [],
   "source": [
    "true_classes = val.classes\n",
    "class_labels = list(val.class_indices.keys())  "
   ]
  },
  {
   "cell_type": "markdown",
   "metadata": {},
   "source": [
    "from sklearn import metrics\n",
    "\n",
    "report = metrics.classification_report(true_classes, predicted_classes, target_names=class_labels)\n",
    "print(report)   "
   ]
  },
  {
   "cell_type": "markdown",
   "metadata": {},
   "source": [
    "##### PLOTS FOR THE ABOVE MODEL :"
   ]
  },
  {
   "cell_type": "code",
   "execution_count": 87,
   "metadata": {},
   "outputs": [
    {
     "data": {
      "image/png": "[encoded data removed]",
      "text/plain": [
       "<Figure size 432x288 with 1 Axes>"
      ]
     },
     "metadata": {
      "needs_background": "light"
     },
     "output_type": "display_data"
    },
    {
     "data": {
      "image/png": "[encoded data removed]",
      "text/plain": [
       "<Figure size 432x288 with 1 Axes>"
      ]
     },
     "metadata": {
      "needs_background": "light"
     },
     "output_type": "display_data"
    }
   ],
   "source": [
    "acc = new_metrics.history['acc']\n",
    "val_acc = new_metrics.history['val_acc']\n",
    "loss = new_metrics.history['loss']\n",
    "val_loss = new_metrics.history['val_loss']\n",
    " \n",
    "epochs = range(len(acc))\n",
    " \n",
    "plt.plot(epochs, acc, 'b', label='Training acc')\n",
    "plt.plot(epochs, val_acc, 'r', label='Validation acc')\n",
    "plt.title('Training and validation accuracy')\n",
    "plt.xlabel('Epochs')\n",
    "plt.ylabel('Accuracy')\n",
    "plt.legend()\n",
    " \n",
    "plt.figure()\n",
    " \n",
    "plt.plot(epochs, loss, 'b', label='Training loss')\n",
    "plt.plot(epochs, val_loss, 'r', label='Validation loss')\n",
    "plt.title('Training and validation loss')\n",
    "plt.xlabel('Epochs')\n",
    "plt.ylabel('Loss')\n",
    "plt.legend()\n",
    "plt.show()"
   ]
  },
  {
   "cell_type": "markdown",
   "metadata": {},
   "source": [
    "#### Observations :\n",
    "\n",
    " \n",
    "* For this problem statement, we have used an initial CNN Model which has been built from scratch and trained.\n",
    "- The Baseline Model has a maximum accuracy of 4.6%.\n",
    "- The CNN Model has a Validation Accuracy of 79.6%.\n",
    "- But the last model which was built using Transfer Learning technique utilizing the existing VGG model, has an overall Accuracy of 95%.\n",
    "\n",
    "* As can be seen from the above metrics, Transfer Learning model has the highest Accuracy.\n",
    "\n",
    "* This suggests that Models evidently do well with Transfer learning techniques, since the existing model has already been trained on huge data and has been proven to be good at classifying the output classes with a high accuracy rate.\n",
    "\n",
    "* Also, the most important advantage of using this technique is that the Model need not be built from scratch. Most of the existing model layers can conveniently be re-used.\n",
    "- Only the last but one layer and the Output layers would require to be re-trained.\n",
    "\n",
    "* Transfer Learning is mostly used in the following scenarios :\n",
    " - When the labeled training data is not sufficient enough to train our network from scratch.\n",
    " - There is an existing pre-trained model which was built for a similar task and has been trained on massive amounts of data.\n"
   ]
  }
 ],
 "metadata": {
  "kernelspec": {
   "display_name": "Python 3",
   "language": "python",
   "name": "python3"
  },
  "language_info": {
   "codemirror_mode": {
    "name": "ipython",
    "version": 3
   },
   "file_extension": ".py",
   "mimetype": "text/x-python",
   "name": "python",
   "nbconvert_exporter": "python",
   "pygments_lexer": "ipython3",
   "version": "3.7.4"
  }
 },
 "nbformat": 4,
 "nbformat_minor": 4
}
